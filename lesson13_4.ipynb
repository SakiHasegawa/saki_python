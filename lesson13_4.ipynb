{
 "cells": [
  {
   "cell_type": "code",
   "execution_count": 3,
   "metadata": {},
   "outputs": [
    {
     "data": {
      "text/plain": [
       "array([71, 92, 76, 94, 64, 87, 71, 53, 72, 70])"
      ]
     },
     "execution_count": 3,
     "metadata": {},
     "output_type": "execute_result"
    }
   ],
   "source": [
    "#pip install --upgrade pandas\n",
    "import numpy as np\n",
    "n1 = np.random.randint(50,100,size=(10,))\n",
    "n1"
   ]
  },
  {
   "cell_type": "markdown",
   "metadata": {},
   "source": [
    "https://pandas.pydata.org/docs/reference/api/pandas.DataFrame.html\n",
    "https://pandas.pydata.org/docs/reference/api/pandas.Series.html\n",
    "https://numpy.org/doc/stable/reference/\n",
    "https://matplotlib.org/stable/api/index.html"
   ]
  },
  {
   "cell_type": "code",
   "execution_count": 4,
   "metadata": {},
   "outputs": [
    {
     "data": {
      "text/plain": [
       "學生1     380\n",
       "學生2     381\n",
       "學生3     362\n",
       "學生4     340\n",
       "學生5     387\n",
       "學生6     351\n",
       "學生7     375\n",
       "學生8     374\n",
       "學生9     325\n",
       "學生10    305\n",
       "dtype: int64"
      ]
     },
     "metadata": {},
     "output_type": "display_data"
    },
    {
     "data": {
      "text/plain": [
       "array([280, 281, 262, 240, 287, 251, 275, 274, 225, 205])"
      ]
     },
     "metadata": {},
     "output_type": "display_data"
    },
    {
     "data": {
      "text/plain": [
       "Index(['學生1', '學生2', '學生3', '學生4', '學生5', '學生6', '學生7', '學生8', '學生9', '學生10'], dtype='object')"
      ]
     },
     "metadata": {},
     "output_type": "display_data"
    }
   ],
   "source": [
    "import numpy as np\n",
    "import pandas as pd\n",
    "\n",
    "n1 = np.random.randint(200,300,size=(10,))\n",
    "s1 = pd.Series(data=n1,index=[f\"學生{i+1}\" for i in range(10)])\n",
    "display(s1+100)\n",
    "display(s1.values)\n",
    "display(s1.index)"
   ]
  }
 ],
 "metadata": {
  "kernelspec": {
   "display_name": "Python 3",
   "language": "python",
   "name": "python3"
  },
  "language_info": {
   "codemirror_mode": {
    "name": "ipython",
    "version": 3
   },
   "file_extension": ".py",
   "mimetype": "text/x-python",
   "name": "python",
   "nbconvert_exporter": "python",
   "pygments_lexer": "ipython3",
   "version": "3.10.12"
  },
  "orig_nbformat": 4
 },
 "nbformat": 4,
 "nbformat_minor": 2
}
