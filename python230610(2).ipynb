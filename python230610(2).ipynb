{
 "cells": [
  {
   "cell_type": "code",
   "execution_count": null,
   "metadata": {},
   "outputs": [
    {
     "name": "stdout",
     "output_type": "stream",
     "text": [
      "hello world\n"
     ]
    }
   ],
   "source": [
    "print('hello world')"
   ]
  },
  {
   "cell_type": "code",
   "execution_count": 6,
   "metadata": {},
   "outputs": [
    {
     "name": "stdout",
     "output_type": "stream",
     "text": [
      "30\n",
      "140434092163600\n",
      "140434092163600\n",
      "140434092163600\n"
     ]
    }
   ],
   "source": [
    "a = 10\n",
    "b = 10\n",
    "c = 10\n",
    "\n",
    "print( a + b + c )\n",
    "\n",
    "print(id(a))\n",
    "print(id(b))\n",
    "print(id(c))\n"
   ]
  },
  {
   "cell_type": "code",
   "execution_count": 7,
   "metadata": {},
   "outputs": [
    {
     "name": "stdout",
     "output_type": "stream",
     "text": [
      "22\n"
     ]
    }
   ],
   "source": [
    "a = 12\n",
    "b = 10\n",
    "print(a + b)"
   ]
  },
  {
   "attachments": {},
   "cell_type": "markdown",
   "metadata": {},
   "source": [
    "https://github.com/roberthsu2003/__112-python-chihlee__"
   ]
  },
  {
   "cell_type": "code",
   "execution_count": 8,
   "metadata": {},
   "outputs": [
    {
     "name": "stdout",
     "output_type": "stream",
     "text": [
      "123\n"
     ]
    },
    {
     "data": {
      "text/plain": [
       "<function __main__.song()>"
      ]
     },
     "execution_count": 8,
     "metadata": {},
     "output_type": "execute_result"
    }
   ],
   "source": [
    "def song():\n",
    "    print('hi')\n",
    "\n",
    "print('123')\n",
    "song"
   ]
  },
  {
   "cell_type": "code",
   "execution_count": 9,
   "metadata": {},
   "outputs": [
    {
     "data": {
      "text/plain": [
       "bool"
      ]
     },
     "execution_count": 9,
     "metadata": {},
     "output_type": "execute_result"
    }
   ],
   "source": [
    "a = 78\n",
    "b = 98\n",
    "b = 98.0\n",
    "b = '98'\n",
    "b = True\n",
    "\n",
    "type(b)"
   ]
  },
  {
   "cell_type": "code",
   "execution_count": 10,
   "metadata": {},
   "outputs": [
    {
     "data": {
      "text/plain": [
       "10"
      ]
     },
     "execution_count": 10,
     "metadata": {},
     "output_type": "execute_result"
    }
   ],
   "source": [
    "2 * ( 1 +2 ) ** 2 - 2 ** 2 * 2"
   ]
  },
  {
   "cell_type": "code",
   "execution_count": 11,
   "metadata": {},
   "outputs": [
    {
     "data": {
      "text/plain": [
       "3.55"
      ]
     },
     "execution_count": 11,
     "metadata": {},
     "output_type": "execute_result"
    }
   ],
   "source": [
    "round(3.541111)\n",
    "round(3.545111,ndigits=2)"
   ]
  },
  {
   "cell_type": "code",
   "execution_count": 14,
   "metadata": {},
   "outputs": [
    {
     "name": "stdout",
     "output_type": "stream",
     "text": [
      "n3的值是3\n"
     ]
    }
   ],
   "source": [
    "n1 = int(input(\"請輸入第1個數字:\"))\n",
    "n2 = int(input(\"請輸入第2個數字:\"))\n",
    "n3 = n1 + n2\n",
    "print(\"n3的值是\",n3,sep=\"\")"
   ]
  },
  {
   "cell_type": "code",
   "execution_count": 1,
   "metadata": {},
   "outputs": [
    {
     "name": "stdout",
     "output_type": "stream",
     "text": [
      "直角三角形的角度為:30度\n"
     ]
    }
   ],
   "source": [
    "import math\n",
    "n1 = float(input('請輸入斜邊'))\n",
    "n2 = float(input('請輸入對邊'))\n",
    "radion = math.asin(n2 / n1)\n",
    "degree = round(math.degrees(radion))\n",
    "print(f\"直角三角形的角度為:{degree}度\")"
   ]
  },
  {
   "cell_type": "code",
   "execution_count": 1,
   "metadata": {},
   "outputs": [
    {
     "data": {
      "text/plain": [
       "False"
      ]
     },
     "execution_count": 1,
     "metadata": {},
     "output_type": "execute_result"
    }
   ],
   "source": [
    "3 > 5"
   ]
  },
  {
   "cell_type": "code",
   "execution_count": 6,
   "metadata": {},
   "outputs": [
    {
     "name": "stdout",
     "output_type": "stream",
     "text": [
      "gg\n",
      "學生總分是:100\n"
     ]
    }
   ],
   "source": [
    "scores = int(input('請輸入分數'))\n",
    "is_add = input('是否符合加分條件？(y,n)')\n",
    "\n",
    "if is_add == 'y':\n",
    "    scores = scores + scores * 0.05\n",
    "    if scores > 300:\n",
    "        scores = 300\n",
    "else:\n",
    "    print('gg')\n",
    "    \n",
    "print(f'學生總分是:{scores}')"
   ]
  },
  {
   "cell_type": "code",
   "execution_count": 10,
   "metadata": {},
   "outputs": [
    {
     "name": "stdout",
     "output_type": "stream",
     "text": [
      "pass\n",
      "great\n"
     ]
    }
   ],
   "source": [
    "score = int(input('輸入成績'))\n",
    "if score < 60:\n",
    "    print('failed')\n",
    "else:\n",
    "    print('pass')\n",
    "    if score > 80:\n",
    "        print('great')\n",
    "    else:\n",
    "        print('good')"
   ]
  },
  {
   "cell_type": "code",
   "execution_count": 15,
   "metadata": {},
   "outputs": [
    {
     "name": "stdout",
     "output_type": "stream",
     "text": [
      "丙\n"
     ]
    }
   ],
   "source": [
    "score = int(input('請輸入成績'))\n",
    "if score < 60: #為True\n",
    "    print('丁')\n",
    "elif score <= 69: #也為True執行上一個\n",
    "    print('丙')\n",
    "elif score <= 79:\n",
    "    print('乙')\n",
    "elif score <= 89:\n",
    "    print('甲')\n",
    "else:\n",
    "    print('優')\n"
   ]
  },
  {
   "cell_type": "code",
   "execution_count": 16,
   "metadata": {},
   "outputs": [
    {
     "name": "stdout",
     "output_type": "stream",
     "text": [
      "中文滿分\n"
     ]
    }
   ],
   "source": [
    "#not 一元運算子 後方一定要為布林值\n",
    "chinese = 100\n",
    "if not chinese == 100:\n",
    "    print('中文非滿分')\n",
    "else:\n",
    "    print('中文滿分')"
   ]
  },
  {
   "cell_type": "code",
   "execution_count": 17,
   "metadata": {},
   "outputs": [
    {
     "name": "stdout",
     "output_type": "stream",
     "text": [
      "1000\n"
     ]
    }
   ],
   "source": [
    "chinese = 100\n",
    "english = 100\n",
    "if english == 100 and chinese == 100:\n",
    "    print('1000')\n",
    "elif english == 100 or chinese == 100:\n",
    "    print('500')\n",
    "else:\n",
    "    print('0')"
   ]
  },
  {
   "cell_type": "code",
   "execution_count": 20,
   "metadata": {},
   "outputs": [
    {
     "name": "stdout",
     "output_type": "stream",
     "text": [
      "5050\n"
     ]
    }
   ],
   "source": [
    "result = 0\n",
    "for i in range(1, 101):\n",
    "    result = result+i\n",
    "print(result)"
   ]
  },
  {
   "cell_type": "code",
   "execution_count": 2,
   "metadata": {},
   "outputs": [
    {
     "name": "stdout",
     "output_type": "stream",
     "text": [
      "0\n",
      "1\n",
      "2\n",
      "3\n",
      "4\n",
      "5\n",
      "6\n",
      "7\n",
      "8\n",
      "9\n"
     ]
    }
   ],
   "source": [
    "for i in range(10):\n",
    "    print(i)"
   ]
  },
  {
   "cell_type": "code",
   "execution_count": 1,
   "metadata": {},
   "outputs": [
    {
     "name": "stdout",
     "output_type": "stream",
     "text": [
      "1*1=1 1*2=2 1*3=3 1*4=4 1*5=5 1*6=6 1*7=7 1*8=8 1*9=9 \n",
      "\n",
      "2*1=2 2*2=4 2*3=6 2*4=8 2*5=10 2*6=12 2*7=14 2*8=16 2*9=18 \n",
      "\n",
      "3*1=3 3*2=6 3*3=9 3*4=12 3*5=15 3*6=18 3*7=21 3*8=24 3*9=27 \n",
      "\n",
      "4*1=4 4*2=8 4*3=12 4*4=16 4*5=20 4*6=24 4*7=28 4*8=32 4*9=36 \n",
      "\n",
      "5*1=5 5*2=10 5*3=15 5*4=20 5*5=25 5*6=30 5*7=35 5*8=40 5*9=45 \n",
      "\n",
      "6*1=6 6*2=12 6*3=18 6*4=24 6*5=30 6*6=36 6*7=42 6*8=48 6*9=54 \n",
      "\n",
      "7*1=7 7*2=14 7*3=21 7*4=28 7*5=35 7*6=42 7*7=49 7*8=56 7*9=63 \n",
      "\n",
      "8*1=8 8*2=16 8*3=24 8*4=32 8*5=40 8*6=48 8*7=56 8*8=64 8*9=72 \n",
      "\n",
      "9*1=9 9*2=18 9*3=27 9*4=36 9*5=45 9*6=54 9*7=63 9*8=72 9*9=81 \n",
      "\n"
     ]
    }
   ],
   "source": [
    "for i in range(1,10):\n",
    "    #print(f\"i={i}\")\n",
    "    for j in range(1,10):\n",
    "        print(f\"{i}*{j}={i*j}\",end=\" \")\n",
    "    print(\"\\n\")"
   ]
  },
  {
   "cell_type": "code",
   "execution_count": 2,
   "metadata": {},
   "outputs": [
    {
     "name": "stdout",
     "output_type": "stream",
     "text": [
      "已經存夠，第2個月，共30000元\n"
     ]
    }
   ],
   "source": [
    "deposit = 0\n",
    "months = 0\n",
    "while(deposit<30000):\n",
    "    months += 1\n",
    "    value=int(input('請輸入本月存款:'))\n",
    "    deposit += value\n",
    "print(f'已經存夠，第{months}個月，共{deposit}元')"
   ]
  },
  {
   "cell_type": "code",
   "execution_count": 9,
   "metadata": {},
   "outputs": [
    {
     "name": "stdout",
     "output_type": "stream",
     "text": [
      "總共0\n"
     ]
    }
   ],
   "source": [
    "#請設計一個程式，讓使用者輸入數值，只有加總正偶數值，不加總正奇數值，如果輸入負數，結束程式。\n",
    "\n",
    "sum = 0\n",
    "num = 0\n",
    "while True:\n",
    "    num += 1\n",
    "    input_value = int(input(f'輸入第{num}個數值:'))\n",
    "    if input_value < 0:\n",
    "        break\n",
    "    elif input_value % 2 == 1:\n",
    "        continue\n",
    "    else:\n",
    "        sum += input_value\n",
    "print(f'總共{sum}')"
   ]
  },
  {
   "cell_type": "code",
   "execution_count": 4,
   "metadata": {},
   "outputs": [
    {
     "name": "stdout",
     "output_type": "stream",
     "text": [
      "所有輸入的正偶數的加總是:20\n"
     ]
    }
   ],
   "source": [
    "sum = 0\n",
    "num = 0\n",
    "while True:\n",
    "    num += 1\n",
    "    input_value = int(input(f\"請輸入第{num}個數值:\"))\n",
    "    if input_value < 0:\n",
    "        break\n",
    "    elif input_value % 2 == 1:\n",
    "        continue\n",
    "    else:\n",
    "        sum += input_value\n",
    "\n",
    "print(f\"所有輸入的正偶數的加總是:{sum}\")"
   ]
  },
  {
   "cell_type": "code",
   "execution_count": 22,
   "metadata": {},
   "outputs": [
    {
     "data": {
      "text/plain": [
       "9"
      ]
     },
     "execution_count": 22,
     "metadata": {},
     "output_type": "execute_result"
    }
   ],
   "source": [
    "#亂數，使用python standard library\n",
    "import random\n",
    "random.randrange(10)\n",
    "random.randint(1,10)"
   ]
  },
  {
   "cell_type": "code",
   "execution_count": 4,
   "metadata": {},
   "outputs": [
    {
     "name": "stdout",
     "output_type": "stream",
     "text": [
      "3\n",
      "12\n",
      "6\n",
      "13\n"
     ]
    }
   ],
   "source": [
    "def func1(para1:int,para2:int):\n",
    "    return para1*para2 //2    \n",
    "print(func1(2,3))\n",
    "print(func1(8,3))\n",
    "print(func1(4,3))\n",
    "print(func1(9,3))"
   ]
  },
  {
   "cell_type": "code",
   "execution_count": 1,
   "metadata": {},
   "outputs": [
    {
     "name": "stdout",
     "output_type": "stream",
     "text": [
      "39\n",
      "====猜數字遊戲====\n",
      "賓果, 數字是39,猜了1次\n",
      "遊戲結束\n"
     ]
    }
   ],
   "source": [
    "def playGame():\n",
    "    import random\n",
    "    min = 1\n",
    "    max = 100\n",
    "    target = random.randint(min, max)\n",
    "    print(target)\n",
    "    print('====猜數字遊戲====')\n",
    "    count = 0\n",
    "\n",
    "    while True:\n",
    "        guess = int(input(f'輸入數字({min}~{max}):'))\n",
    "        count+=1\n",
    "        if guess == target:\n",
    "            print(f'賓果, 數字是{target},猜了{count}次')\n",
    "            break\n",
    "        elif guess < target:\n",
    "            print('錯了,大一點')\n",
    "            min = guess + 1\n",
    "        elif guess > target:\n",
    "            print('錯了,小一點')\n",
    "            max = guess - 1    \n",
    "        print(f'猜了{count}次')    \n",
    "\n",
    "while(True):\n",
    "    playGame()\n",
    "    play_again = input('again?(y/n)?')\n",
    "    if not (play_again == 'y'):\n",
    "        break\n",
    "print(f'遊戲結束')"
   ]
  },
  {
   "cell_type": "code",
   "execution_count": 5,
   "metadata": {},
   "outputs": [],
   "source": [
    "def get_tuple():\n",
    "    return(404,'error')"
   ]
  },
  {
   "cell_type": "code",
   "execution_count": 7,
   "metadata": {},
   "outputs": [
    {
     "name": "stdout",
     "output_type": "stream",
     "text": [
      "404\n",
      "error\n"
     ]
    }
   ],
   "source": [
    "#拆解法\n",
    "(code,message)=get_tuple()\n",
    "print(code)\n",
    "print(message)"
   ]
  },
  {
   "cell_type": "code",
   "execution_count": 9,
   "metadata": {},
   "outputs": [
    {
     "data": {
      "text/plain": [
       "[1, 2, 3, 4, 5, 6, 7, 8, 9]"
      ]
     },
     "execution_count": 9,
     "metadata": {},
     "output_type": "execute_result"
    }
   ],
   "source": [
    "list(range(1,10))"
   ]
  },
  {
   "cell_type": "code",
   "execution_count": 12,
   "metadata": {},
   "outputs": [
    {
     "data": {
      "text/plain": [
       "['a', 2, 'b']"
      ]
     },
     "execution_count": 12,
     "metadata": {},
     "output_type": "execute_result"
    }
   ],
   "source": [
    "list(('a',2,'b'))"
   ]
  },
  {
   "cell_type": "code",
   "execution_count": 18,
   "metadata": {},
   "outputs": [
    {
     "data": {
      "text/plain": [
       "[100, 89, 90, 91, 92, 88]"
      ]
     },
     "execution_count": 18,
     "metadata": {},
     "output_type": "execute_result"
    }
   ],
   "source": [
    "stu1 = [78,89,90,91,92]\n",
    "stu1.append(88)\n",
    "stu1.remove(78)\n",
    "stu1.insert(0,100)\n",
    "stu1\n"
   ]
  },
  {
   "cell_type": "code",
   "execution_count": 19,
   "metadata": {},
   "outputs": [
    {
     "data": {
      "text/plain": [
       "6"
      ]
     },
     "execution_count": 19,
     "metadata": {},
     "output_type": "execute_result"
    }
   ],
   "source": [
    "len(stu1)"
   ]
  },
  {
   "cell_type": "code",
   "execution_count": 13,
   "metadata": {},
   "outputs": [
    {
     "name": "stdout",
     "output_type": "stream",
     "text": [
      "78\n",
      "89\n",
      "90\n",
      "91\n",
      "92\n"
     ]
    }
   ],
   "source": [
    "for score in stu1:\n",
    "    print(score)"
   ]
  },
  {
   "cell_type": "code",
   "execution_count": 26,
   "metadata": {},
   "outputs": [
    {
     "name": "stdout",
     "output_type": "stream",
     "text": [
      "H\n",
      "e\n",
      "l\n",
      "l\n",
      "o\n",
      "W\n",
      "o\n",
      "r\n",
      "l\n",
      "d\n"
     ]
    }
   ],
   "source": [
    "for word in \"HelloWorld\":\n",
    "    print(word)"
   ]
  },
  {
   "cell_type": "code",
   "execution_count": 21,
   "metadata": {},
   "outputs": [
    {
     "data": {
      "text/plain": [
       "['h', 'e', 'l', 'l', 'o', 'w', 'o', 'r', 'l', 'd']"
      ]
     },
     "execution_count": 21,
     "metadata": {},
     "output_type": "execute_result"
    }
   ],
   "source": [
    "words = list('helloworld')\n",
    "words"
   ]
  },
  {
   "cell_type": "code",
   "execution_count": 25,
   "metadata": {},
   "outputs": [
    {
     "data": {
      "text/plain": [
       "['h', 'e', 'l', 'l', 'o']"
      ]
     },
     "execution_count": 25,
     "metadata": {},
     "output_type": "execute_result"
    }
   ],
   "source": [
    "words[0:5]#slice切割"
   ]
  },
  {
   "cell_type": "code",
   "execution_count": 24,
   "metadata": {},
   "outputs": [
    {
     "data": {
      "text/plain": [
       "['h', 'e', 'l', 'l', 'o']"
      ]
     },
     "execution_count": 24,
     "metadata": {},
     "output_type": "execute_result"
    }
   ],
   "source": [
    "words[:5]"
   ]
  },
  {
   "cell_type": "code",
   "execution_count": 22,
   "metadata": {},
   "outputs": [
    {
     "data": {
      "text/plain": [
       "['w', 'o', 'r', 'l', 'd']"
      ]
     },
     "execution_count": 22,
     "metadata": {},
     "output_type": "execute_result"
    }
   ],
   "source": [
    "words[-5:]\n"
   ]
  },
  {
   "cell_type": "code",
   "execution_count": 27,
   "metadata": {},
   "outputs": [
    {
     "data": {
      "text/plain": [
       "[['電腦', '筆電'], ['android', 'htc'], ['冰箱', '洗衣機']]"
      ]
     },
     "execution_count": 27,
     "metadata": {},
     "output_type": "execute_result"
    }
   ],
   "source": [
    "nb = ['電腦', '筆電']\n",
    "mobile = ['android', 'htc']\n",
    "home = ['冰箱','洗衣機']\n",
    "all3c = [nb, mobile, home]\n",
    "all3c"
   ]
  },
  {
   "cell_type": "code",
   "execution_count": 28,
   "metadata": {},
   "outputs": [
    {
     "name": "stdout",
     "output_type": "stream",
     "text": [
      "電腦\n",
      "android\n",
      "冰箱\n"
     ]
    }
   ],
   "source": [
    "print(all3c[0][0])\n",
    "print(all3c[1][0])\n",
    "print(all3c[2][0])"
   ]
  },
  {
   "cell_type": "code",
   "execution_count": 30,
   "metadata": {},
   "outputs": [
    {
     "name": "stdout",
     "output_type": "stream",
     "text": [
      "[80, 95, 80, 74, 91]\n"
     ]
    }
   ],
   "source": [
    "#\"_\"下底線：省略運算子\n",
    "import random\n",
    "stu1 = list()\n",
    "\n",
    "for _ in range(5):\n",
    "    stu1.append(random.randint(50,100))\n",
    "print (stu1)"
   ]
  },
  {
   "cell_type": "code",
   "execution_count": 31,
   "metadata": {},
   "outputs": [
    {
     "data": {
      "text/plain": [
       "[89, 65, 99, 75, 95]"
      ]
     },
     "execution_count": 31,
     "metadata": {},
     "output_type": "execute_result"
    }
   ],
   "source": [
    "stu1 = list()\n",
    "for _ in range(5):\n",
    "    stu1.append(random.randint(50,100))\n",
    "stu1"
   ]
  },
  {
   "cell_type": "code",
   "execution_count": 11,
   "metadata": {},
   "outputs": [
    {
     "ename": "NameError",
     "evalue": "name 'random' is not defined",
     "output_type": "error",
     "traceback": [
      "\u001b[0;31m---------------------------------------------------------------------------\u001b[0m",
      "\u001b[0;31mNameError\u001b[0m                                 Traceback (most recent call last)",
      "Cell \u001b[0;32mIn[11], line 5\u001b[0m\n\u001b[1;32m      3\u001b[0m     stu \u001b[39m=\u001b[39m \u001b[39mlist\u001b[39m()\n\u001b[1;32m      4\u001b[0m     \u001b[39mfor\u001b[39;00m _ \u001b[39min\u001b[39;00m \u001b[39mrange\u001b[39m(\u001b[39m5\u001b[39m):\n\u001b[0;32m----> 5\u001b[0m         stu\u001b[39m.\u001b[39mappend(random\u001b[39m.\u001b[39mrandint(\u001b[39m50\u001b[39m,\u001b[39m100\u001b[39m))\n\u001b[1;32m      6\u001b[0m     students\u001b[39m.\u001b[39mappend(stu)\n\u001b[1;32m      7\u001b[0m students\n",
      "\u001b[0;31mNameError\u001b[0m: name 'random' is not defined"
     ]
    }
   ],
   "source": [
    "students = []\n",
    "for _ in range (50):\n",
    "    stu = list()\n",
    "    for _ in range(5):\n",
    "        stu.append(random.randint(50,100))\n",
    "    students.append(stu)\n",
    "students"
   ]
  },
  {
   "cell_type": "code",
   "execution_count": 1,
   "metadata": {},
   "outputs": [],
   "source": [
    "text = '''python與中文\n",
    "1. 我們來試試看中文儲存能力。\n",
    "2. 許這個字會有編碼衝突風險。\n",
    "3. 犇這個字必須是utf8編碼才有。'''\n",
    "\n",
    "file = open('helloWorld',mode='w')\n",
    "\n",
    "print(text,file=file)\n",
    "file.close()"
   ]
  },
  {
   "cell_type": "code",
   "execution_count": 2,
   "metadata": {},
   "outputs": [],
   "source": [
    "file = open('hello1.txt',mode='w',encoding=\"utf-8\")\n",
    "file.write(\"這是第一行\\n\")\n",
    "file.write(\"這是第二行\\n\")\n",
    "file.writelines(\"\"\"這是第三行\n",
    "這是第四行\n",
    "這是第五行\n",
    "\"\"\")\n",
    "file.close()"
   ]
  },
  {
   "cell_type": "code",
   "execution_count": 4,
   "metadata": {},
   "outputs": [
    {
     "name": "stdout",
     "output_type": "stream",
     "text": [
      "這是第一行\n",
      "這是第二行\n",
      "這是第三行\n",
      "這是第四行\n",
      "這是第五行\n",
      "\n"
     ]
    }
   ],
   "source": [
    "file = open('hello1.txt',mode='r',encoding=\"utf-8\")\n",
    "all_text=file.read()\n",
    "print(all_text)"
   ]
  },
  {
   "cell_type": "code",
   "execution_count": 14,
   "metadata": {},
   "outputs": [
    {
     "data": {
      "text/plain": [
       "[[62, 91, 94, 82, 100],\n",
       " [94, 71, 81, 79, 78],\n",
       " [96, 79, 73, 78, 72],\n",
       " [63, 53, 59, 71, 89],\n",
       " [66, 64, 68, 81, 79],\n",
       " [65, 84, 65, 68, 88],\n",
       " [95, 77, 70, 86, 85],\n",
       " [98, 88, 51, 66, 87],\n",
       " [66, 68, 63, 77, 100],\n",
       " [95, 83, 60, 91, 68],\n",
       " [95, 82, 73, 53, 95],\n",
       " [79, 51, 100, 79, 74],\n",
       " [59, 50, 72, 81, 94],\n",
       " [73, 97, 74, 57, 51],\n",
       " [59, 50, 52, 92, 90],\n",
       " [83, 57, 67, 99, 93],\n",
       " [61, 85, 82, 87, 76],\n",
       " [56, 82, 82, 83, 86],\n",
       " [92, 67, 70, 59, 66],\n",
       " [58, 100, 59, 73, 90],\n",
       " [95, 100, 90, 62, 97],\n",
       " [70, 57, 80, 75, 51],\n",
       " [97, 60, 58, 85, 99],\n",
       " [64, 71, 91, 77, 73],\n",
       " [87, 84, 81, 65, 72],\n",
       " [100, 90, 60, 69, 61],\n",
       " [57, 78, 68, 73, 60],\n",
       " [68, 70, 52, 93, 99],\n",
       " [53, 98, 71, 75, 73],\n",
       " [70, 68, 89, 74, 78],\n",
       " [92, 72, 68, 56, 99],\n",
       " [50, 93, 65, 81, 85],\n",
       " [90, 98, 50, 65, 81],\n",
       " [59, 52, 72, 94, 74],\n",
       " [91, 59, 58, 81, 95],\n",
       " [87, 65, 82, 51, 74],\n",
       " [53, 86, 80, 88, 92],\n",
       " [59, 57, 71, 75, 62],\n",
       " [74, 73, 66, 83, 64],\n",
       " [76, 75, 61, 79, 58],\n",
       " [74, 99, 84, 81, 68],\n",
       " [85, 85, 75, 99, 67],\n",
       " [68, 86, 66, 91, 94],\n",
       " [50, 50, 91, 62, 65],\n",
       " [52, 55, 90, 81, 98],\n",
       " [100, 99, 72, 99, 60],\n",
       " [69, 74, 56, 58, 83],\n",
       " [56, 75, 55, 78, 99],\n",
       " [86, 54, 74, 55, 94],\n",
       " [98, 83, 73, 83, 53]]"
      ]
     },
     "execution_count": 14,
     "metadata": {},
     "output_type": "execute_result"
    }
   ],
   "source": [
    "import random\n",
    "students = []\n",
    "for _ in range (50):\n",
    "    stu = list()\n",
    "    for _ in range(5):\n",
    "        stu.append(random.randint(50,100))\n",
    "    students.append(stu)\n",
    "students"
   ]
  },
  {
   "cell_type": "code",
   "execution_count": 16,
   "metadata": {},
   "outputs": [],
   "source": [
    "import csv\n",
    "csv_write_file = open('students.csv',newline='',mode='w',encoding='utf-8')\n",
    "csv_writer = csv.writer(csv_write_file)\n",
    "csv_writer.writerow(['國文','英文','數學','地理','歷史'])\n",
    "csv_writer.writerows(students)\n",
    "csv_write_file.close()"
   ]
  }
 ],
 "metadata": {
  "kernelspec": {
   "display_name": "Python 3 (ipykernel)",
   "language": "python",
   "name": "python3"
  },
  "language_info": {
   "codemirror_mode": {
    "name": "ipython",
    "version": 3
   },
   "file_extension": ".py",
   "mimetype": "text/x-python",
   "name": "python",
   "nbconvert_exporter": "python",
   "pygments_lexer": "ipython3",
   "version": "3.10.12"
  },
  "orig_nbformat": 4
 },
 "nbformat": 4,
 "nbformat_minor": 2
}
